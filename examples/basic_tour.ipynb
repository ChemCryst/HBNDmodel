{
 "cells": [
  {
   "cell_type": "raw",
   "metadata": {},
   "source": [
    "Hydrogen Bond Network Dimensionality predictive model\n",
    "\n",
    "Hydrogen bond network dimensionality (HBND) describes how hydrogen-bond intermolecular interactions extend in a three-dimensional structure. \n",
    "The network arrangement is thought to influence properties where hydrogen bonding plays critical  role, such as crystal stability,  mechanical  behaviour  and compound tabletability performance.\n",
    "The hydrogen bond network dimensionality problem can be formulated as a four-class classification task, and the four possible network dimensionality outcomes are schematically represented below.\n",
    "\n",
    "We provide a ready to usemodel for Hydrogen Bond Network Dimensionality prediction. \n",
    "Input: list of SMILES of the molecules to be predicted\n",
    "Output: a list of (class, SMILES) pairs\n",
    "Performance: 59% accuracy (compared to a 25% random threshold)\n",
    "\n",
    "This is a basic tour of how to use the hydrogen bond network dimensionality predictive model."
   ]
  },
  {
   "cell_type": "raw",
   "metadata": {},
   "source": [
    "[1] import the model"
   ]
  },
  {
   "cell_type": "code",
   "execution_count": null,
   "metadata": {},
   "outputs": [],
   "source": [
    "from hbdn_model import hbnd_predictive_model"
   ]
  },
  {
   "cell_type": "raw",
   "metadata": {},
   "source": [
    "[2] load some example data"
   ]
  },
  {
   "cell_type": "code",
   "execution_count": 7,
   "metadata": {},
   "outputs": [
    {
     "name": "stdout",
     "output_type": "stream",
     "text": [
      "['CC(=O)NN1C=NN=C1N(N=Cc1c(Cl)cccc1Cl)C(C)=O'\n",
      " 'Cc1ccc(cc1)c1nc2ccc3ccccc3c2cc1CCO']\n"
     ]
    }
   ],
   "source": [
    "import pandas as pd\n",
    "smiles_list = pd.read_pickle('smiles_list_example')\n",
    "smiles_list = smiles_list.values\n",
    "\n",
    "print(smiles_list[:2])"
   ]
  },
  {
   "cell_type": "raw",
   "metadata": {},
   "source": [
    "[3] predict the first 10 molecules of smiles_list"
   ]
  },
  {
   "cell_type": "code",
   "execution_count": 1,
   "metadata": {},
   "outputs": [
    {
     "ename": "NameError",
     "evalue": "name 'smiles_list' is not defined",
     "output_type": "error",
     "traceback": [
      "\u001b[1;31m---------------------------------------------------------------------------\u001b[0m",
      "\u001b[1;31mNameError\u001b[0m                                 Traceback (most recent call last)",
      "\u001b[1;32m<ipython-input-1-442bafff4d2d>\u001b[0m in \u001b[0;36m<module>\u001b[1;34m\u001b[0m\n\u001b[1;32m----> 1\u001b[1;33m \u001b[0mtest\u001b[0m \u001b[1;33m=\u001b[0m \u001b[0msmiles_list\u001b[0m\u001b[1;33m[\u001b[0m\u001b[1;33m:\u001b[0m\u001b[1;36m10\u001b[0m\u001b[1;33m]\u001b[0m\u001b[1;33m\u001b[0m\u001b[1;33m\u001b[0m\u001b[0m\n\u001b[0m\u001b[0;32m      2\u001b[0m \u001b[0mpredictions\u001b[0m \u001b[1;33m=\u001b[0m \u001b[0mhbnd_predictive_model\u001b[0m\u001b[1;33m(\u001b[0m\u001b[0mtest\u001b[0m\u001b[1;33m,\u001b[0m \u001b[0mreport\u001b[0m\u001b[1;33m=\u001b[0m\u001b[1;32mTrue\u001b[0m\u001b[1;33m)\u001b[0m\u001b[1;33m\u001b[0m\u001b[1;33m\u001b[0m\u001b[0m\n",
      "\u001b[1;31mNameError\u001b[0m: name 'smiles_list' is not defined"
     ]
    }
   ],
   "source": [
    "test = smiles_list[:10]\n",
    "predictions = hbnd_predictive_model(test, report=True)"
   ]
  },
  {
   "cell_type": "raw",
   "metadata": {},
   "source": [
    "[4] explore the structure of the result"
   ]
  },
  {
   "cell_type": "code",
   "execution_count": 5,
   "metadata": {},
   "outputs": [
    {
     "name": "stdout",
     "output_type": "stream",
     "text": [
      "('0D', 'CC(=O)NN1C=NN=C1N(N=Cc1c(Cl)cccc1Cl)C(C)=O')\n",
      "('0D', 'Cc1ccc(cc1)c1nc2ccc3ccccc3c2cc1CCO')\n",
      "('0D', 'ClC1=C(C(=O)Nc2ccccc12)c1ccccc1')\n",
      "('0D', 'O=C1Nc2ccccc2C2=C1CCc1ccccc21')\n",
      "('1D', 'OC1(CC2CCCC(CC(=O)c3ccccc3)N2C(=O)C1)c1ccccc1')\n",
      "('0D', 'CN1c2ccccc2C2=C1c1ccccc1NC2=O')\n",
      "('1D', 'OC1(CC2CCCC(CC(=O)c3ccccc3)N2C(=O)C1Cl)c1ccccc1')\n",
      "('3D', 'CC1=NN(C(N)=S)C(O)(C1)c1ccccc1')\n",
      "('3D', 'CC(=O)OCC1OC(=O)C(O)C1O')\n",
      "('0D', 'O=C1NC2=C(CCC2)C2=C1c1ccccc1O2')\n"
     ]
    }
   ],
   "source": [
    "for prediction in predictions: print(prediction)"
   ]
  },
  {
   "cell_type": "code",
   "execution_count": 3,
   "metadata": {},
   "outputs": [],
   "source": []
  }
 ],
 "metadata": {
  "kernelspec": {
   "display_name": "Python 3",
   "language": "python",
   "name": "python3"
  },
  "language_info": {
   "codemirror_mode": {
    "name": "ipython",
    "version": 3
   },
   "file_extension": ".py",
   "mimetype": "text/x-python",
   "name": "python",
   "nbconvert_exporter": "python",
   "pygments_lexer": "ipython3",
   "version": "3.7.3"
  }
 },
 "nbformat": 4,
 "nbformat_minor": 4
}
